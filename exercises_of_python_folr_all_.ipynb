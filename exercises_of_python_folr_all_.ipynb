{
  "cells": [
    {
      "cell_type": "markdown",
      "metadata": {
        "id": "rF2_HhXz8NRL"
      },
      "source": [
        "**Exercise 2**"
      ]
    },
    {
      "cell_type": "markdown",
      "metadata": {
        "id": "v-M623q68tEk"
      },
      "source": [
        "Write a program that uses input to prompt a user for their name\n",
        "and then welcomes them.\n",
        "Enter your name: Chuck\n",
        "Hello Chuck\n"
      ]
    },
    {
      "cell_type": "code",
      "execution_count": null,
      "metadata": {
        "colab": {
          "base_uri": "https://localhost:8080/"
        },
        "id": "vVoSTogI8Sa1",
        "outputId": "31cdf79b-4113-45cd-e0b0-afe2462ce46d"
      },
      "outputs": [
        {
          "name": "stdout",
          "output_type": "stream",
          "text": [
            "enter your name:chuk\n",
            "hello chuk\n"
          ]
        }
      ],
      "source": [
        "name=input(\"enter your name:\")\n",
        "print(\"hello\",name)\n",
        "\n"
      ]
    },
    {
      "cell_type": "markdown",
      "metadata": {
        "id": "b4b3kqUp8S37"
      },
      "source": [
        "\n",
        " Write a program to prompt the user for hours and rate per hour to\n",
        "compute gross pay.\n",
        "Enter Hours: 35\n",
        "Enter Rate: 2.75\n",
        "Pay: 96.25\n",
        "We won’t worry about making sure our pay has exactly two digits after the decimal\n",
        "place for now. If you want, you can play with the built-in Python round function\n",
        "to properly round the resulting pay to two decimal places"
      ]
    },
    {
      "cell_type": "code",
      "execution_count": null,
      "metadata": {
        "colab": {
          "base_uri": "https://localhost:8080/"
        },
        "id": "3_AG-QQe8TRQ",
        "outputId": "1e635210-525f-45f8-f847-4caa811f1234"
      },
      "outputs": [
        {
          "name": "stdout",
          "output_type": "stream",
          "text": [
            "enter hours:35\n",
            "enter rate per hour:2.75\n",
            "96.25\n"
          ]
        }
      ],
      "source": [
        "hours=float(input(\"enter hours:\"))\n",
        "rate_per_hour=float(input(\"enter rate per hour:\"))\n",
        "gross_pay=hours*rate_per_hour\n",
        "print(gross_pay)\n",
        "# round_gross_pY=round(gross_pay, 3)\n",
        "# print(round_gross_pY)"
      ]
    },
    {
      "cell_type": "markdown",
      "metadata": {
        "id": "cpdp0PP28TfY"
      },
      "source": [
        "Assume that we execute the following assignment statements:\n",
        "width = 17\n",
        "height = 12.0\n",
        "For each of the following expressions, write the value of the expression and the\n",
        "type (of the value of the expression).\n",
        "1. width//2\n",
        "2. width/2.0\n",
        "3. height/3\n",
        "4. 1 + 2 * 5"
      ]
    },
    {
      "cell_type": "code",
      "execution_count": null,
      "metadata": {
        "colab": {
          "base_uri": "https://localhost:8080/"
        },
        "id": "lJtYMQi38hSj",
        "outputId": "249f660f-879d-4c30-b00b-14f36093696a"
      },
      "outputs": [
        {
          "name": "stdout",
          "output_type": "stream",
          "text": [
            "enter width:17\n",
            "enter height:12.0\n",
            "8.0\n",
            "8.5\n",
            "4.0\n",
            "11\n"
          ]
        }
      ],
      "source": [
        "width=float(input(\"enter width:\"))\n",
        "height=float(input(\"enter height:\"))\n",
        "print(width//2)\n",
        "print(width/2.0)\n",
        "print(height/3)\n",
        "print(1 + 2 * 5)\n"
      ]
    },
    {
      "cell_type": "markdown",
      "metadata": {
        "id": "HBizejm08TsC"
      },
      "source": [
        "Write a program which prompts the user for a Celsius temperature,\n",
        "convert the temperature to Fahrenheit, and print out the converted temperature."
      ]
    },
    {
      "cell_type": "code",
      "execution_count": null,
      "metadata": {
        "colab": {
          "base_uri": "https://localhost:8080/"
        },
        "id": "YWWZaNrL8T7A",
        "outputId": "22c98da1-ebeb-4554-c55e-f8b4f0db60f1"
      },
      "outputs": [
        {
          "name": "stdout",
          "output_type": "stream",
          "text": [
            "celsius temprature=65\n",
            "temprature in fahrenheit= 149.0\n"
          ]
        }
      ],
      "source": [
        "celsius_temprature=int(input(\"celsius temprature=\"))\n",
        "temprature_in_fahrenheit=(9/5) * celsius_temprature+32\n",
        "print(\"temprature in fahrenheit=\" ,temprature_in_fahrenheit)\n"
      ]
    },
    {
      "cell_type": "markdown",
      "metadata": {
        "id": "s2Y70DKmzRWq"
      },
      "source": [
        "**Exercise 3**:"
      ]
    },
    {
      "cell_type": "markdown",
      "metadata": {
        "id": "jdQKRQFBzWb1"
      },
      "source": [
        " Rewrite your pay computation to give the employee 1.5 times the\n",
        "hourly rate for hours worked above 40 hours.\n",
        "Enter Hours: 45\n",
        "Enter Rate: 10\n",
        "Pay: 475.0\n"
      ]
    },
    {
      "cell_type": "code",
      "execution_count": null,
      "metadata": {
        "colab": {
          "base_uri": "https://localhost:8080/"
        },
        "id": "aQSxI8fNzY7m",
        "outputId": "0b4f681b-5453-4bc6-c2c6-63f0d19f90dc"
      },
      "outputs": [
        {
          "name": "stdout",
          "output_type": "stream",
          "text": [
            "enter hours40\n",
            "enter hours45\n",
            "enter rate10\n",
            "475.0\n"
          ]
        }
      ],
      "source": [
        "regular_hours=float(input(\"enter hours\"))\n",
        "enter_hourse=float(input(\"enter hours\"))\n",
        "over_time_hours=enter_hourse-regular_hours\n",
        "rate=float(input(\"enter rate\"))\n",
        "pay=(regular_hours * rate) + (over_time_hours * 1.5 * rate)\n",
        "print(pay)\n"
      ]
    },
    {
      "cell_type": "code",
      "execution_count": null,
      "metadata": {
        "colab": {
          "base_uri": "https://localhost:8080/"
        },
        "id": "XKbtvA2LplX0",
        "outputId": "947714f2-dbe2-4260-f117-52ed9ac76308"
      },
      "outputs": [
        {
          "name": "stdout",
          "output_type": "stream",
          "text": [
            "Enter regular hours: 40\n",
            "Enter total hours worked: 45\n",
            "Enter rate: 10\n",
            "475.0\n"
          ]
        }
      ],
      "source": [
        "regular_hours = float(input(\"Enter regular hours: \"))\n",
        "enter_hours = float(input(\"Enter total hours worked: \"))\n",
        "rate = float(input(\"Enter rate: \"))\n",
        "\n",
        "if enter_hours <= 40:\n",
        "    pay = rate * enter_hours\n",
        "else:\n",
        "    #regular_pay = 40 * rate\n",
        "    over_time_hours = enter_hours - 40\n",
        "    pay =regular_hours * rate + (1.5 * rate * over_time_hours)\n",
        "\n",
        "print(pay)"
      ]
    },
    {
      "cell_type": "code",
      "execution_count": null,
      "metadata": {
        "colab": {
          "base_uri": "https://localhost:8080/"
        },
        "id": "sofR8vJ_4rGX",
        "outputId": "d1729826-1a6f-48b0-bbdd-d5c285dbd660"
      },
      "outputs": [
        {
          "name": "stdout",
          "output_type": "stream",
          "text": [
            "enter hours:45\n",
            "enter rate:10\n",
            "525.0\n"
          ]
        }
      ],
      "source": [
        "hours=float(input(\"enter hours:\"))\n",
        "rate=float(input(\"enter rate:\"))\n",
        "if hours <= 40:\n",
        "  pay=rate*hours\n",
        "else:\n",
        "  overtime=hours-40\n",
        "  pay=(rate*hours)+(1.5*rate*overtime)\n",
        "print(pay)"
      ]
    },
    {
      "cell_type": "code",
      "execution_count": null,
      "metadata": {
        "colab": {
          "base_uri": "https://localhost:8080/"
        },
        "id": "Vb6YkhjZopFI",
        "outputId": "e57aa06b-5e2e-4257-bcad-76afa9131f77"
      },
      "outputs": [
        {
          "name": "stdout",
          "output_type": "stream",
          "text": [
            "Enter hours: 45\n",
            "Enter rate: 10\n",
            "525.0\n"
          ]
        }
      ],
      "source": [
        "hours = float(input(\"Enter hours: \"))\n",
        "rate = float(input(\"Enter rate: \"))\n",
        "\n",
        "if hours < 40:\n",
        "    pay = rate * hours\n",
        "else:\n",
        "    overtime = hours - 40\n",
        "    pay = (rate * hours) + (1.5 * rate * overtime)\n",
        "\n",
        "print(pay)"
      ]
    },
    {
      "cell_type": "markdown",
      "metadata": {
        "id": "AVDJoMz_5RE_"
      },
      "source": [
        "**3.2:**Rewrite your pay program using try and except so that your program handles non-numeric input gracefully by printing a message and exiting the\n",
        "program. The following shows two executions of the program:Enter Hours: 20\n",
        "Enter Rate: nine\n",
        "Error, please enter numeric input\n",
        "Enter Hours: forty\n",
        "Error, please enter numeric input"
      ]
    },
    {
      "cell_type": "code",
      "execution_count": null,
      "metadata": {
        "colab": {
          "base_uri": "https://localhost:8080/"
        },
        "id": "5vDWRrJp5gUZ",
        "outputId": "30e22190-e4f6-40b5-9d2e-62e725aade9f"
      },
      "outputs": [
        {
          "name": "stdout",
          "output_type": "stream",
          "text": [
            "please enter hours:20\n",
            "please enter rate:nine\n",
            "please enter a numeric value of rate\n",
            "please enter hours:forty\n",
            "please enter a numeric value of hours\n"
          ]
        }
      ],
      "source": [
        "try:\n",
        "  hours:int(input(\"please enter hours:\"))\n",
        "  rate:int(input(\"please enter rate:\"))\n",
        "except:\n",
        "  print(\"please enter a numeric value of rate\")\n",
        "try:\n",
        "  hours:int(input(\"please enter hours:\"))\n",
        "  rate:int(input(\"please enter rate:\"))\n",
        "except:\n",
        "  print(\"please enter a numeric value of hours\")"
      ]
    },
    {
      "cell_type": "code",
      "execution_count": null,
      "metadata": {
        "colab": {
          "base_uri": "https://localhost:8080/"
        },
        "id": "wcEGMwwcmrdr",
        "outputId": "f23f3517-5f91-4f6b-bc4b-cddc8b4329a0"
      },
      "outputs": [
        {
          "name": "stdout",
          "output_type": "stream",
          "text": [
            "Please enter hours: 40\n",
            "Please enter rate: nine\n",
            "Error: Please enter numeric values for hours and rate.\n",
            "Pay: 360\n"
          ]
        }
      ],
      "source": [
        "#3.2 exercise\n",
        "try:\n",
        "    hours = int(input(\"Please enter hours: \"))\n",
        "    rate = int(input(\"Please enter rate: \"))\n",
        "except ValueError:\n",
        "    print(\"Error: Please enter numeric values for hours and rate.\")\n",
        "    exit()\n",
        "pay = hours * rate\n",
        "print(\"Pay:\", pay)"
      ]
    },
    {
      "cell_type": "code",
      "execution_count": null,
      "metadata": {
        "id": "3rpw48OXmOqy"
      },
      "outputs": [],
      "source": []
    },
    {
      "cell_type": "markdown",
      "metadata": {
        "id": "wInZNk1g6WN_"
      },
      "source": [
        "**What is exception:**exception is nothing but run time errors and it occurs due to incorrect implementation of logic.it is a mechanism through which we handle the one time error;\n",
        "\n",
        "*   try:\n",
        "\n",
        "*   except:\n",
        "*   else:\n",
        "\n",
        "\n",
        "\n"
      ]
    },
    {
      "cell_type": "code",
      "execution_count": null,
      "metadata": {
        "colab": {
          "base_uri": "https://localhost:8080/"
        },
        "id": "s4LQ_88GPHGV",
        "outputId": "0f38a722-6d1b-4a66-cc1d-272ce2004a92"
      },
      "outputs": [
        {
          "name": "stdout",
          "output_type": "stream",
          "text": [
            "no can not be divided by 0\n"
          ]
        }
      ],
      "source": [
        "a=10\n",
        "b=0\n",
        "try:\n",
        "  c=a/b\n",
        "  print(c)\n",
        "except:\n",
        "  print(\"no can not be divided by 0\")"
      ]
    },
    {
      "cell_type": "code",
      "execution_count": null,
      "metadata": {
        "colab": {
          "base_uri": "https://localhost:8080/"
        },
        "id": "rTnvTmBOPHVE",
        "outputId": "6bf3f49e-bc78-4f08-fc0e-1479f4775100"
      },
      "outputs": [
        {
          "name": "stdout",
          "output_type": "stream",
          "text": [
            "no can not be divided by 0\n"
          ]
        }
      ],
      "source": [
        "a=10\n",
        "b=0\n",
        "try:\n",
        "  c=a/b\n",
        "  print(c)\n",
        "except:\n",
        "  print(\"no can not be divided by 0\")  #when error occur in try block then it will never execute values after except\n",
        "else:\n",
        "  print(\"iram\")"
      ]
    },
    {
      "cell_type": "code",
      "execution_count": null,
      "metadata": {
        "colab": {
          "base_uri": "https://localhost:8080/"
        },
        "id": "X40QT1uYQRFt",
        "outputId": "b068ec78-c364-4288-ec9b-56ef5a478c5f"
      },
      "outputs": [
        {
          "name": "stdout",
          "output_type": "stream",
          "text": [
            "5.0\n",
            "iram\n"
          ]
        }
      ],
      "source": [
        "a=10\n",
        "b=2\n",
        "try:\n",
        "  c=a/b\n",
        "  print(c)\n",
        "except:\n",
        "  print(\"no can not be divided by 0\")  #when there is no error then it will excecute values after except block\n",
        "else:\n",
        "  print(\"iram\")"
      ]
    },
    {
      "cell_type": "markdown",
      "metadata": {
        "id": "2H06KPAYSb0W"
      },
      "source": [
        "the placement of the **try** block depends on the nature of the operations being performed. If the potential error can be detected before the **try** block, you may choose to assign values first. If the potential error is related to the assignment or manipulation of values, placing the entire block in the **try** block is a common practice."
      ]
    },
    {
      "cell_type": "code",
      "execution_count": null,
      "metadata": {
        "id": "j9AL7bWzQ0gT"
      },
      "outputs": [],
      "source": [
        "a=int(input(\"please enter a first no:\"))\n",
        "b=int(input(\"please enter a second no:\"))\n",
        "try:\n",
        "  c=a/b\n",
        "  print(c)\n",
        "except:\n",
        "  print(\"no can not by divided by 0\")"
      ]
    },
    {
      "cell_type": "code",
      "execution_count": null,
      "metadata": {
        "colab": {
          "base_uri": "https://localhost:8080/"
        },
        "id": "pfDX7EpkLqQX",
        "outputId": "ccaf3aae-eedb-4566-cf7c-c6a411b76812"
      },
      "outputs": [
        {
          "name": "stdout",
          "output_type": "stream",
          "text": [
            "please enter a first no:67\n",
            "please enter a second no:nine\n",
            "please enter a numeric value\n"
          ]
        }
      ],
      "source": [
        "try:\n",
        "    a=int(input(\"please enter a first no:\"))\n",
        "    b=int(input(\"please enter a second no:\"))\n",
        "    if a>b:\n",
        "      print(\"a is greater then b\")\n",
        "    else:\n",
        "      print(\" a is lees then \")\n",
        "except ValueError:\n",
        "     print(\"please enter a numeric value\")\n"
      ]
    },
    {
      "cell_type": "code",
      "execution_count": null,
      "metadata": {
        "colab": {
          "base_uri": "https://localhost:8080/"
        },
        "id": "T-qr3qtikaQ-",
        "outputId": "c0571029-13e8-4b57-e6cf-3bc67fb8dac6"
      },
      "outputs": [
        {
          "name": "stdout",
          "output_type": "stream",
          "text": [
            "please enter a first no:10\n",
            "please enter a second no:0\n",
            "value can not be divided by 0\n"
          ]
        }
      ],
      "source": [
        "a=int(input(\"please enter a first no:\"))\n",
        "b=int(input(\"please enter a second no:\"))\n",
        "try:\n",
        "    if a/b:\n",
        "      print(\"a is greater then b\")\n",
        "    else:\n",
        "      print(\" a is lees then \")\n",
        "except:\n",
        "     print(\"value can not be divided by 0\")"
      ]
    },
    {
      "cell_type": "markdown",
      "metadata": {
        "id": "-9wmSllpu71e"
      },
      "source": [
        "**try:**\n",
        "    # Code that might raise an exception\n",
        "    # ...\n",
        "**except SomeException:**\n",
        "    # Handle the exception\n",
        "    # ..."
      ]
    },
    {
      "cell_type": "markdown",
      "metadata": {
        "id": "-jLGFPwsKMXR"
      },
      "source": [
        "**3.3:**Write a program to prompt for a score between 0.0 and 1.0. If the\n",
        "score is out of range, print an error message. If the score is between 0.0 and 1.0,\n",
        "print a grade using the following table:\n",
        "Score Grade\n",
        ">= 0.9 A\n",
        ">= 0.8 B\n",
        ">= 0.7 C\n",
        ">= 0.6 D\n",
        "< 0.6 F\n",
        "Enter score: 0.95\n",
        "A\n",
        "Enter score: perfect\n",
        "Bad score\n",
        "Enter score: 10.0\n",
        "Bad score\n",
        "Enter score: 0.75\n",
        "C\n",
        "Enter score: 0.5\n",
        "F\n",
        "Run the program repeatedly as shown above to test the various different values for\n",
        "input.   \n"
      ]
    },
    {
      "cell_type": "code",
      "execution_count": null,
      "metadata": {
        "colab": {
          "base_uri": "https://localhost:8080/"
        },
        "id": "U2YgbJte6pt8",
        "outputId": "a0294b4a-5e44-46cb-85af-3952cd3dbb2d"
      },
      "outputs": [
        {
          "name": "stdout",
          "output_type": "stream",
          "text": [
            "enter a score between 0.0 and 1.0:bad score\n",
            "please enter a numeric value\n"
          ]
        }
      ],
      "source": [
        "try:\n",
        "  score=float(input(\"enter a score between 0.0 and 1.0:\"))\n",
        "  if 0.0<= score <=1.0:\n",
        "    print(\"score is in range\")\n",
        "    if score>=0.9:\n",
        "      grade=\"A\"\n",
        "    elif score>=0.8:\n",
        "      grade=\"B\"\n",
        "    elif score>=0.7:\n",
        "      grade=\"C\"\n",
        "    elif score>=0.6:\n",
        "      grade=\"D\"\n",
        "    else:\n",
        "      grade=\"F\"\n",
        "      print(\"grade:\", grade)\n",
        "  else:\n",
        "        print(\"error score is out of range 0.0 and 0.1\")\n",
        "\n",
        "except ValueError:\n",
        "  print(\"please enter a numeric value\")\n",
        "\n",
        "\n",
        "\n",
        "\n",
        "\n",
        "\n",
        "\n",
        "\n",
        "\n",
        "\n",
        "\n",
        "\n"
      ]
    },
    {
      "cell_type": "markdown",
      "metadata": {
        "id": "ZzblUjxjlBTD"
      },
      "source": [
        "**Chapter 5: while statment**\n",
        "More formally, here is the flow of execution for **a while** statement:\n",
        "1. Evaluate the condition, yielding True or False.\n",
        "2. If the condition is false, exit the while statement and continue execution at\n",
        "the next statement.\n",
        "3. If the condition is true, execute the body and then go back to step 1.\n"
      ]
    },
    {
      "cell_type": "code",
      "execution_count": null,
      "metadata": {
        "colab": {
          "base_uri": "https://localhost:8080/"
        },
        "id": "S58D6DQiH1oV",
        "outputId": "c3c11f22-b09d-455a-bbf2-10068cdbc9a7"
      },
      "outputs": [
        {
          "name": "stdout",
          "output_type": "stream",
          "text": [
            "5\n",
            "4\n",
            "3\n",
            "2\n",
            "1\n"
          ]
        }
      ],
      "source": [
        "n=5\n",
        "while n>0:\n",
        "  print(n)\n",
        "  n= n-1\n"
      ]
    },
    {
      "cell_type": "code",
      "execution_count": null,
      "metadata": {
        "colab": {
          "base_uri": "https://localhost:8080/"
        },
        "id": "InZSeZqplbRz",
        "outputId": "06183eb2-3296-4069-f737-a06466a9534c"
      },
      "outputs": [
        {
          "name": "stdout",
          "output_type": "stream",
          "text": [
            "0\n",
            "1\n",
            "2\n",
            "3\n",
            "4\n",
            "5\n",
            "6\n"
          ]
        }
      ],
      "source": [
        "n=0\n",
        "while n<7:\n",
        "  print(n)\n",
        "  n+=1\n"
      ]
    },
    {
      "cell_type": "markdown",
      "metadata": {
        "id": "_bZoT7_Cl0hY"
      },
      "source": [
        "Sometimes you don’t know it’s time to end a loop until you get half way through\n",
        "the body. In that case you can write an infinite loop on purpose and then use the\n",
        "**break statement** to jump out of the loop.\n",
        "This loop is obviously an infinite loop because the logical expression on the while\n",
        "statement is simply the logical constant True:\n"
      ]
    },
    {
      "cell_type": "code",
      "execution_count": null,
      "metadata": {
        "colab": {
          "base_uri": "https://localhost:8080/"
        },
        "id": "IXF1tnlUmLob",
        "outputId": "1a4c1d22-1e4f-416a-83bd-cb0ebb558517"
      },
      "outputs": [
        {
          "name": "stdout",
          "output_type": "stream",
          "text": [
            "9 done\n"
          ]
        }
      ],
      "source": [
        "n=10\n",
        "while True:\n",
        "   n=n-1\n",
        "   print(n, end=' ')\n",
        "   break\n",
        "print(\"done\")"
      ]
    },
    {
      "cell_type": "code",
      "execution_count": null,
      "metadata": {
        "colab": {
          "base_uri": "https://localhost:8080/"
        },
        "id": "catMSdk1pmrp",
        "outputId": "814fc23f-3b27-42d6-da1d-d1b951840142"
      },
      "outputs": [
        {
          "name": "stdout",
          "output_type": "stream",
          "text": [
            "> hello there\n",
            "> finished\n",
            "> done\n",
            "done\n",
            "Done!\n"
          ]
        }
      ],
      "source": [
        "while True:  #this conditon used for infinite loop\n",
        "  line = input('> ')\n",
        "  if line == 'done':\n",
        "   break\n",
        "print(line)\n",
        "print('Done!')\n"
      ]
    },
    {
      "cell_type": "code",
      "execution_count": null,
      "metadata": {
        "colab": {
          "base_uri": "https://localhost:8080/"
        },
        "id": "LhtdI8yzrAk4",
        "outputId": "a5420c76-aacf-439d-c498-05560da0d19d"
      },
      "outputs": [
        {
          "name": "stdout",
          "output_type": "stream",
          "text": [
            "enter the string:ir\n",
            "enter the string:am\n",
            "enter the string:sh\n",
            "enter the string:ah\n",
            "enter the string:ee\n",
            "enter the string:N\n",
            "N\n",
            "iram\n"
          ]
        }
      ],
      "source": [
        "while True: #this will be infinite loop takes the value again and again until we add the N\n",
        "  string1=str(input(\"enter the string:\"))\n",
        "  if string1 == \"N\":\n",
        "    break\n",
        "print(string1)\n",
        "print(\"iram\")\n"
      ]
    },
    {
      "cell_type": "code",
      "execution_count": null,
      "metadata": {
        "id": "IxPQSMoMoN-l"
      },
      "outputs": [],
      "source": [
        "n = 10\n",
        "while True:\n",
        "  print(n, end=' ')#infinite\n",
        "  n = n - 1\n",
        "print('Done!')"
      ]
    },
    {
      "cell_type": "markdown",
      "metadata": {
        "id": "s0DqcyHuxCC-"
      },
      "source": [
        "**Finishing iterations with continue**\n",
        "\n",
        "Sometimes you are in an iteration of a loop and want to finish the current iteration\n",
        "and immediately jump to the next iteration. In that case you can use the continue\n",
        "statement to skip to the next iteration without finishing the body of the loop for\n",
        "the current iteration.\n"
      ]
    },
    {
      "cell_type": "code",
      "execution_count": null,
      "metadata": {
        "colab": {
          "base_uri": "https://localhost:8080/"
        },
        "id": "0N9aXILAxGDl",
        "outputId": "bc9406a8-8234-498d-c963-3ce4a289ddc8"
      },
      "outputs": [
        {
          "name": "stdout",
          "output_type": "stream",
          "text": [
            "enter the string:i\n",
            "enter the string:am\n",
            "enter the string:learning\n",
            "enter the string:the \n",
            "enter the string:python\n",
            "enter the string:my\n",
            "enter the string:name\n",
            "enter the string:is \n",
            "enter the string:iram\n",
            "enter the string:shaheen\n"
          ]
        }
      ],
      "source": [
        "while True:\n",
        "  string1=str(input(\"enter the string:\"))\n",
        "  if string1==\"iram\":\n",
        "    continue\n",
        "  if string1==\"shaheen\":\n",
        "    break\n",
        "    print(string1)\n",
        "    print(\"friend\")\n"
      ]
    },
    {
      "cell_type": "code",
      "execution_count": null,
      "metadata": {
        "colab": {
          "base_uri": "https://localhost:8080/"
        },
        "id": "f4npXWCVyL7I",
        "outputId": "9e5b3b92-3299-4fdd-eae3-e13339e30419"
      },
      "outputs": [
        {
          "name": "stdout",
          "output_type": "stream",
          "text": [
            "> i\n",
            "i\n",
            "> am\n",
            "am\n",
            "> iram\n",
            "> shaheen\n",
            "shaheen\n",
            "> done\n",
            "Done!\n"
          ]
        }
      ],
      "source": [
        "while True:\n",
        "      line = input('> ')\n",
        "      if line == 'iram':\n",
        "         continue\n",
        "      if line == 'done':\n",
        "         break\n",
        "      print(line)\n",
        "print('Done!')\n"
      ]
    },
    {
      "cell_type": "markdown",
      "metadata": {
        "id": "HiwIs9rm35QJ"
      },
      "source": [
        "**Definite loops using for**\n",
        "\n",
        "Sometimes we want to loop through a set of things such as a list of words, the lines\n",
        "in a file, or a list of numbers. When we have a list of things to loop through, we\n",
        "can construct a definite loop using a **for** **statement** . We call the while statement\n",
        "an indefinite loop because it simply loops until some condition becomes False,\n",
        "whereas the **for loop** is looping through a known set of items so it runs through\n",
        "as many iterations as there are items in the set"
      ]
    },
    {
      "cell_type": "code",
      "execution_count": null,
      "metadata": {
        "colab": {
          "base_uri": "https://localhost:8080/"
        },
        "id": "z0Up999k4IRL",
        "outputId": "dbed4ef9-1544-4236-e93a-7e901f05bd70"
      },
      "outputs": [
        {
          "name": "stdout",
          "output_type": "stream",
          "text": [
            "Happy New Year: Joseph\n",
            "Happy New Year: Glenn\n",
            "Happy New Year: Sally\n",
            "Done!\n"
          ]
        }
      ],
      "source": [
        "friends = ['Joseph', 'Glenn', 'Sally']\n",
        "for friend in friends:\n",
        "    print('Happy New Year:', friend)\n",
        "print('Done!')\n"
      ]
    },
    {
      "cell_type": "code",
      "execution_count": null,
      "metadata": {
        "colab": {
          "base_uri": "https://localhost:8080/"
        },
        "id": "qp_Vs38U4rXn",
        "outputId": "5633d940-6d3f-457a-9af3-91eaf5d1d0aa"
      },
      "outputs": [
        {
          "name": "stdout",
          "output_type": "stream",
          "text": [
            "number is, 1\n",
            "number is, 2\n",
            "number is, 3\n",
            "number is, 4\n",
            "number is, 5\n",
            "done\n"
          ]
        }
      ],
      "source": [
        "number=[1,2,3,4,5]\n",
        "for i in number:\n",
        "  print(\"number is,\", i)\n",
        "print(\"done\")"
      ]
    },
    {
      "cell_type": "markdown",
      "metadata": {
        "id": "HS9dDUwE5j9n"
      },
      "source": [
        "**Counting and summing loops**\n",
        "For example, to count the **number of items in a list**, we would write the following\n",
        "**for loop:**\n"
      ]
    },
    {
      "cell_type": "code",
      "execution_count": null,
      "metadata": {
        "colab": {
          "base_uri": "https://localhost:8080/"
        },
        "id": "8s9uelMo533Q",
        "outputId": "4f30ab68-3468-41db-a5c6-c2fac7d68b50"
      },
      "outputs": [
        {
          "name": "stdout",
          "output_type": "stream",
          "text": [
            "2\n",
            "3\n",
            "4\n",
            "5\n",
            "6\n",
            "7\n",
            "8\n"
          ]
        }
      ],
      "source": [
        "i=0\n",
        "list1=[1,2,3,4,5,6,7]\n",
        "for i in list1:\n",
        "   i=i+1\n",
        "   print(i)\n",
        "\n",
        "\n",
        "\n"
      ]
    },
    {
      "cell_type": "code",
      "execution_count": null,
      "metadata": {
        "colab": {
          "base_uri": "https://localhost:8080/"
        },
        "id": "CjM6QgfI5kLA",
        "outputId": "bf0d03ef-e767-4c26-e5c6-2677721c2637"
      },
      "outputs": [
        {
          "name": "stdout",
          "output_type": "stream",
          "text": [
            "Count:  1\n",
            "Count:  2\n",
            "Count:  3\n",
            "Count:  4\n",
            "Count:  5\n",
            "Count:  6\n"
          ]
        }
      ],
      "source": [
        "count = 0\n",
        "for itervar in [3, 41, 12, 9, 74, 15]:# itervar mean no of item we used different variable for no of item\n",
        "      count = count + 1\n",
        "      print('Count: ', count)"
      ]
    },
    {
      "cell_type": "code",
      "execution_count": null,
      "metadata": {
        "colab": {
          "base_uri": "https://localhost:8080/"
        },
        "id": "bZ5Kc2N4-zOs",
        "outputId": "d85e72d7-445e-4eca-ea6c-0522904e6395"
      },
      "outputs": [
        {
          "name": "stdout",
          "output_type": "stream",
          "text": [
            "total: 6\n",
            "total: 9\n",
            "total: 10\n",
            "total: 7\n",
            "total: 11\n",
            "total: 12\n"
          ]
        }
      ],
      "source": [
        "i=5\n",
        "string1=[1,4,5,2,6,7]\n",
        "for j in string1:\n",
        "  total=i+j\n",
        "  print(\"total:\",total)"
      ]
    },
    {
      "cell_type": "markdown",
      "metadata": {
        "id": "4bU9EH1bEQk-"
      },
      "source": []
    },
    {
      "cell_type": "code",
      "execution_count": null,
      "metadata": {
        "colab": {
          "base_uri": "https://localhost:8080/"
        },
        "id": "cDOnKX4h-UaQ",
        "outputId": "b343d03e-1afe-4655-e230-a5ddb7c2034a"
      },
      "outputs": [
        {
          "name": "stdout",
          "output_type": "stream",
          "text": [
            "Before: None\n",
            "Loop: 3 3\n",
            "Loop: 41 41\n",
            "Loop: 12 41\n",
            "Loop: 9 41\n",
            "Loop: 74 74\n",
            "Loop: 15 74\n"
          ]
        }
      ],
      "source": [
        "largest = None\n",
        "print('Before:', largest)\n",
        "for itervar in [3, 41, 12, 9, 74, 15]:\n",
        "    if largest is None or itervar > largest :\n",
        "      largest = itervar\n",
        "    print('Loop:', itervar, largest)\n",
        "#print('Largest:', largest)"
      ]
    },
    {
      "cell_type": "markdown",
      "metadata": {
        "id": "-eUJc9nNGZVf"
      },
      "source": [
        "**Exercise 5.1**:\n",
        " Write a program which repeatedly reads integers until the user enters\n",
        "“done”. Once “done” is entered, print out the total, count, and average of the\n",
        "integers. If the user enters anything other than a integers, detect their mistake\n",
        "using try and except and print an error message and skip to the next integers.\n",
        "\n",
        "Enter a number: 4\n",
        "\n",
        "Enter a number: 5\n",
        "\n",
        "Enter a number: bad data\n",
        "\n",
        "Invalid input\n",
        "\n",
        "Enter a number: 7\n",
        "\n",
        "Enter a number: done\n",
        "\n",
        "16 3 5.333333333333333"
      ]
    },
    {
      "cell_type": "code",
      "execution_count": null,
      "metadata": {
        "colab": {
          "base_uri": "https://localhost:8080/"
        },
        "id": "2AhDIa1RGNSA",
        "outputId": "3a56e5cf-1ab7-4f2a-9190-da8bd7ad9ee5"
      },
      "outputs": [
        {
          "name": "stdout",
          "output_type": "stream",
          "text": [
            "enter no:4\n",
            "enter no:5\n",
            "enter no:bad data\n",
            "invalid input\n",
            "enter no:7\n",
            "enter no:done\n",
            "5.333333333333333 3 16\n",
            "Done\n"
          ]
        }
      ],
      "source": [
        "count=0\n",
        "total=0\n",
        "while True:\n",
        "  a=input(\"enter no:\")\n",
        "  if a==\"done\":\n",
        "    break\n",
        "    #print(a)\n",
        "  try:\n",
        "    num=int(a)\n",
        "    count += 1\n",
        "    total += num\n",
        "  except ValueError:\n",
        "    print(\"invalid input\")\n",
        "if count>0:\n",
        "  average=total/count\n",
        "  print(average ,count ,total)\n",
        "  #print(f\"\\nTotal: {total}\\nCount: {count}\\nAverage: {average}\")\n",
        "else:\n",
        "  print(\"enter invalid no\")\n",
        "\n",
        "\n",
        "\n",
        "\n",
        "print(\"Done\")\n",
        "\n"
      ]
    },
    {
      "cell_type": "code",
      "execution_count": null,
      "metadata": {
        "colab": {
          "base_uri": "https://localhost:8080/"
        },
        "id": "PnLbd26SPPqJ",
        "outputId": "8212875b-826e-4a60-ef82-070dcb82a6b8"
      },
      "outputs": [
        {
          "name": "stdout",
          "output_type": "stream",
          "text": [
            "Enter an integer (type 'done' to finish): 4\n",
            "Enter an integer (type 'done' to finish): 5\n",
            "Enter an integer (type 'done' to finish): bad data\n",
            "Invalid input. Please enter a valid integer.\n",
            "Enter an integer (type 'done' to finish): 7\n",
            "Enter an integer (type 'done' to finish): done\n",
            "\n",
            "Total: 16\n",
            "Count: 3\n",
            "Average: 5.333333333333333\n"
          ]
        }
      ],
      "source": [
        "total = 0\n",
        "count = 0\n",
        "\n",
        "while True:\n",
        "    user_input = input(\"Enter an integer (type 'done' to finish): \")\n",
        "\n",
        "    if user_input.lower() == 'done':\n",
        "        break\n",
        "\n",
        "    try:\n",
        "        num = int(user_input)\n",
        "        total += num\n",
        "        count += 1\n",
        "    except ValueError:\n",
        "        print(\"Invalid input. Please enter a valid integer.\")\n",
        "\n",
        "if count > 0:\n",
        "    average = total / count\n",
        "    print(f\"\\nTotal: {total}\\nCount: {count}\\nAverage: {average}\")\n",
        "else:\n",
        "    print(\"\\nNo valid integers entered.\")"
      ]
    },
    {
      "cell_type": "markdown",
      "metadata": {
        "id": "-bZaSnnYGu9j"
      },
      "source": [
        "**Exercise 5.2:**\n",
        "\n",
        " Write another program that prompts for a list of numbers as above\n",
        "and at the end prints out both the maximum and minimum of the numbers instead\n",
        "of the average."
      ]
    },
    {
      "cell_type": "code",
      "execution_count": null,
      "metadata": {
        "colab": {
          "base_uri": "https://localhost:8080/"
        },
        "id": "v0JuZCK5c7wO",
        "outputId": "fb837229-386d-4a63-dfa4-837d09512bb2"
      },
      "outputs": [
        {
          "name": "stdout",
          "output_type": "stream",
          "text": [
            "enter a data value:4\n",
            "enter a data value:5\n",
            "enter a data value:bad data\n",
            "error: please enter the valid data value\n",
            "enter a data value:7\n",
            "enter a data value:done\n",
            "\n",
            " 16 \n",
            " 3 \n",
            " 7 \n",
            " 4\n"
          ]
        }
      ],
      "source": [
        "count=0\n",
        "total=0\n",
        "numbers=[]\n",
        "while True:\n",
        "  num=input(\"enter a data value:\")\n",
        "  if num==\"done\":\n",
        "    break\n",
        "  try:\n",
        "    #convert no into intger\n",
        "    num1=int(num)\n",
        "    #add these no into list\n",
        "    numbers.append(num1)\n",
        "    total+=num1\n",
        "    count+=1\n",
        "  except ValueError:\n",
        "    print(\"error: please enter the valid data value\")\n",
        "if num1>0:\n",
        "  maximum=max(numbers)\n",
        "  minimum=min(numbers)\n",
        "  print(\"\\n\" ,total, \"\\n\",count,\"\\n\",maximum,\"\\n\", minimum)\n",
        "else:\n",
        "  print(\"enter a valid data\")\n",
        "\n",
        "\n"
      ]
    },
    {
      "cell_type": "markdown",
      "metadata": {
        "id": "0Fnq7j-mhoRP"
      },
      "source": [
        "Write a Python program that takes a series of integers as input from the user until the user enters \"done.\" Once \"done\" is entered, the program should display the sum of the squares of all the entered numbers. If the user enters anything other than an integer, detect their mistake using try and except, print an error message, and skip to the next input."
      ]
    },
    {
      "cell_type": "code",
      "execution_count": null,
      "metadata": {
        "colab": {
          "base_uri": "https://localhost:8080/"
        },
        "id": "e2iIQMOnhogV",
        "outputId": "5854018f-f8c0-4339-dda7-ac95ba673a05"
      },
      "outputs": [
        {
          "name": "stdout",
          "output_type": "stream",
          "text": [
            "enter a valid value:2\n",
            "enter a valid value:3\n",
            "enter a valid value:4\n",
            "enter a valid value:5\n",
            "enter a valid value:bad value\n",
            "please enter a valid value\n",
            "enter a valid value:why\n",
            "please enter a valid value\n",
            "enter a valid value:6\n",
            "enter a valid value:done\n",
            "90\n"
          ]
        }
      ],
      "source": [
        "numbers=[]\n",
        "count=0\n",
        "while True:\n",
        "  user_input=input(\"enter a valid value:\")\n",
        "  if user_input==\"done\":\n",
        "     break\n",
        "  try:\n",
        "    num=int(user_input)\n",
        "    numbers.append(num)\n",
        "    count+=1\n",
        "  except ValueError:\n",
        "     print(\"please enter a valid value\")\n",
        "if count>0:\n",
        "  result=sum(x**2 for x in numbers)\n",
        "  print(result)\n",
        "else:\n",
        "  print(\"enter a valid value\")"
      ]
    },
    {
      "cell_type": "markdown",
      "metadata": {
        "id": "A9YuzfABoCFR"
      },
      "source": [
        "Write a Python program that prompts the user for a list of numbers until the user enters \"done.\" Once \"done\" is entered, the program should display the product of all the entered numbers. If the user enters anything other than a number, detect their mistake using try and except, print an error message, and skip to the next input. If no valid numbers are entered, print a message indicating that no valid input was provided."
      ]
    },
    {
      "cell_type": "code",
      "source": [
        "numbers = []\n",
        "while True:\n",
        "    try:\n",
        "        user_input = input(\"Enter a number: \")\n",
        "        if user_input == \"done\":\n",
        "            break\n",
        "        number = float(user_input)\n",
        "        numbers.append(number)\n",
        "    except ValueError:\n",
        "        print(\"Invalid input. Please enter a valid number or 'done'.\")\n",
        "\n",
        "if not numbers:\n",
        "    print(\"No valid input provided.\")\n",
        "else:\n",
        "    product = 1\n",
        "    for num in numbers:\n",
        "        product *= num\n",
        "    print(product)\n",
        "    #print(f\"The product of the entered numbers is: {product:.2f}\")\n",
        "\n",
        "\n",
        "\n"
      ],
      "metadata": {
        "colab": {
          "base_uri": "https://localhost:8080/"
        },
        "id": "rXSIcp8Cu8gB",
        "outputId": "3740eadc-d441-45bc-c6e3-15622d324e88"
      },
      "execution_count": null,
      "outputs": [
        {
          "output_type": "stream",
          "name": "stdout",
          "text": [
            "Enter a number: 2\n",
            "Enter a number: 3\n",
            "Enter a number: 4\n",
            "Enter a number: done\n",
            "24.0\n"
          ]
        }
      ]
    },
    {
      "cell_type": "code",
      "execution_count": null,
      "metadata": {
        "colab": {
          "base_uri": "https://localhost:8080/"
        },
        "id": "UrmNA0BvoD2u",
        "outputId": "1e9faf62-f396-47ba-81df-8660708a9317"
      },
      "outputs": [
        {
          "output_type": "stream",
          "name": "stdout",
          "text": [
            "enter a data value:2\n",
            "enter a data value:3\n",
            "enter a data value:4\n",
            "enter a data value:done\n",
            "2\n",
            "6\n",
            "24\n"
          ]
        }
      ],
      "source": [
        "numbers=[]\n",
        "count=0\n",
        "product=1\n",
        "while True:\n",
        "  user_input=input(\"enter a data value:\")\n",
        "  if user_input==\"done\":\n",
        "    break\n",
        "  try:\n",
        "    number=int(user_input)\n",
        "    numbers.append(number)\n",
        "    count+=1\n",
        "\n",
        "  except:\n",
        "    print(\"enter a integer\")\n",
        "if count>0:\n",
        "  product=1\n",
        "  for i in numbers:\n",
        "    product *= i\n",
        "    print(product)\n",
        "else:\n",
        "  print(\"enter a valid value\")\n"
      ]
    },
    {
      "cell_type": "code",
      "source": [],
      "metadata": {
        "id": "6Ir8LjoHu23A"
      },
      "execution_count": null,
      "outputs": []
    }
  ],
  "metadata": {
    "colab": {
      "provenance": []
    },
    "kernelspec": {
      "display_name": "Python 3",
      "name": "python3"
    },
    "language_info": {
      "name": "python"
    }
  },
  "nbformat": 4,
  "nbformat_minor": 0
}