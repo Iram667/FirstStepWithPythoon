{
  "nbformat": 4,
  "nbformat_minor": 0,
  "metadata": {
    "colab": {
      "provenance": []
    },
    "kernelspec": {
      "name": "python3",
      "display_name": "Python 3"
    },
    "language_info": {
      "name": "python"
    }
  },
  "cells": [
    {
      "cell_type": "markdown",
      "source": [
        "Write a Python program that takes an input number and prints whether it is positive, negative, or zero."
      ],
      "metadata": {
        "id": "leZ1I1FhOTBE"
      }
    },
    {
      "cell_type": "code",
      "source": [
        "a=int(input(\"enter a no:\"))\n",
        "if a>0:\n",
        "  print(\"no is positive\")\n",
        "elif a<0:\n",
        "    print(\"no is negative\")\n",
        "else:\n",
        "  print(\"no is zero\")\n",
        "\n",
        "\n"
      ],
      "metadata": {
        "colab": {
          "base_uri": "https://localhost:8080/"
        },
        "id": "7TU35Ts5OYDP",
        "outputId": "6aa6d2c7-19c6-4b63-f22b-3ae7821218b4"
      },
      "execution_count": null,
      "outputs": [
        {
          "output_type": "stream",
          "name": "stdout",
          "text": [
            "enter a no:8\n",
            "no is positive\n"
          ]
        }
      ]
    },
    {
      "cell_type": "markdown",
      "source": [
        "Create a program that prints numbers from 1 to 5 using a while loop."
      ],
      "metadata": {
        "id": "mdmZp9F3OXBv"
      }
    },
    {
      "cell_type": "code",
      "source": [
        "i=1\n",
        "while i<6:\n",
        "  print(i)\n",
        "  i += 1\n"
      ],
      "metadata": {
        "colab": {
          "base_uri": "https://localhost:8080/"
        },
        "id": "oMor_CCKOXbv",
        "outputId": "85bacdf2-3a7e-4840-95d1-db3ab1fc18c3"
      },
      "execution_count": null,
      "outputs": [
        {
          "output_type": "stream",
          "name": "stdout",
          "text": [
            "1\n",
            "2\n",
            "3\n",
            "4\n",
            "5\n"
          ]
        }
      ]
    },
    {
      "cell_type": "markdown",
      "source": [
        "Write a program to find the first occurrence of the letter 'a' in a given string. Use a loop and break when 'a' is found."
      ],
      "metadata": {
        "id": "PGelqnX8Omx5"
      }
    },
    {
      "cell_type": "code",
      "source": [
        "string1=str(input(\"enter a string:\"))\n",
        "for chr in string1:\n",
        "  if chr ==\"a\":\n",
        "    print(\"a is fond in string1\")\n",
        "  break"
      ],
      "metadata": {
        "colab": {
          "base_uri": "https://localhost:8080/"
        },
        "id": "8Jt4EvM3OnGl",
        "outputId": "fda597b5-58a4-4ac3-aa59-0e4742bad8cf"
      },
      "execution_count": null,
      "outputs": [
        {
          "output_type": "stream",
          "name": "stdout",
          "text": [
            "enter a string:apple\n",
            "a is fond in string1\n"
          ]
        }
      ]
    },
    {
      "cell_type": "code",
      "source": [
        "while True:\n",
        "  string1=str(input(\"enter the string\"))\n",
        "  if string1==\"a\":\n",
        "    print(string1)\n",
        "  break\n",
        "print(\"iram\")\n"
      ],
      "metadata": {
        "colab": {
          "base_uri": "https://localhost:8080/"
        },
        "id": "AuDUnPgTsbBk",
        "outputId": "a478e918-eba5-44ed-d7ee-1875bf67022e"
      },
      "execution_count": null,
      "outputs": [
        {
          "output_type": "stream",
          "name": "stdout",
          "text": [
            "enter the string\"iram\"\n",
            "iram\n"
          ]
        }
      ]
    },
    {
      "cell_type": "markdown",
      "source": [
        "### Create a program that prints all even numbers from 1 to 10, skipping odd numbers using the continue statement."
      ],
      "metadata": {
        "id": "DJMTBLDMOnUr"
      }
    },
    {
      "cell_type": "code",
      "source": [
        "for i in range(1,11):\n",
        "  if i % 2==0:\n",
        "     print(i)\n",
        "  continue"
      ],
      "metadata": {
        "colab": {
          "base_uri": "https://localhost:8080/"
        },
        "id": "z3jz24qzOniQ",
        "outputId": "fea94017-502d-445b-ac06-f447592802c1"
      },
      "execution_count": null,
      "outputs": [
        {
          "output_type": "stream",
          "name": "stdout",
          "text": [
            "2\n",
            "4\n",
            "6\n",
            "8\n",
            "10\n"
          ]
        }
      ]
    },
    {
      "cell_type": "markdown",
      "source": [
        "Implement a Python function that does nothing inside its loop using the pass statement.\n"
      ],
      "metadata": {
        "id": "heVcliGMOnwa"
      }
    },
    {
      "cell_type": "code",
      "source": [
        "\n",
        "\n"
      ],
      "metadata": {
        "colab": {
          "base_uri": "https://localhost:8080/"
        },
        "id": "aCtJEe7FOoAI",
        "outputId": "5a3fa10f-ef42-4d5b-ba1c-f2d260414ff0"
      },
      "execution_count": null,
      "outputs": [
        {
          "output_type": "stream",
          "name": "stdout",
          "text": [
            "enter a no: 6\n",
            "enter a no: 10\n",
            "a<b\n"
          ]
        }
      ]
    },
    {
      "cell_type": "markdown",
      "source": [
        "Write a one-liner Python code to print \"Even\" if a number is even and \"Odd\" if it is odd."
      ],
      "metadata": {
        "id": "pwRM1pABOoPo"
      }
    },
    {
      "cell_type": "code",
      "source": [
        "print(\"even\" if int(input(\"enter a no:\")) % 2==0  else \"odd\")\n"
      ],
      "metadata": {
        "colab": {
          "base_uri": "https://localhost:8080/"
        },
        "id": "b10MLpYBOofb",
        "outputId": "32976ec9-41ec-4130-aee2-e2770362f065"
      },
      "execution_count": null,
      "outputs": [
        {
          "output_type": "stream",
          "name": "stdout",
          "text": [
            "enter a no:6\n",
            "even\n"
          ]
        }
      ]
    },
    {
      "cell_type": "markdown",
      "source": [
        "Create a program that checks if a number is both divisible by 2 and 3."
      ],
      "metadata": {
        "id": "u9XnVaZwOow5"
      }
    },
    {
      "cell_type": "code",
      "source": [
        "a=int(input(\"enter a no:\"))\n",
        "if a%2==0 and a%3==0:\n",
        "  print(\"no is devisible by both 2 and 3\")\n",
        "\n"
      ],
      "metadata": {
        "colab": {
          "base_uri": "https://localhost:8080/"
        },
        "id": "Hqv3flidOo_d",
        "outputId": "d2c6fc1b-a00f-45bb-aec5-0bdef56172f8"
      },
      "execution_count": null,
      "outputs": [
        {
          "output_type": "stream",
          "name": "stdout",
          "text": [
            "enter a no:6\n",
            "no is devisible by both 2 and 3\n"
          ]
        }
      ]
    },
    {
      "cell_type": "markdown",
      "source": [
        "Write a program that checks whether a given number is positive, negative, or zero, and then, if it's positive, checks if it's even or odd."
      ],
      "metadata": {
        "id": "w0oQGu5LO9U5"
      }
    },
    {
      "cell_type": "code",
      "source": [
        "a=int(input(\"enter a no:\"))\n",
        "if a>0:\n",
        "  if a%2==0:\n",
        "    print(\"a is even\")\n",
        "  else:\n",
        "    print(\"a is odd\")\n",
        "elif a<0:\n",
        "  print(\"a is negative\")\n",
        "else:\n",
        "  print(\"a is equal to 0\")\n",
        "\n"
      ],
      "metadata": {
        "colab": {
          "base_uri": "https://localhost:8080/"
        },
        "id": "HE2IlFtkO9xj",
        "outputId": "3db6ba7a-8dab-4d52-a20a-863856c4ae17"
      },
      "execution_count": null,
      "outputs": [
        {
          "output_type": "stream",
          "name": "stdout",
          "text": [
            "enter a no:10\n",
            "a is even\n"
          ]
        }
      ]
    },
    {
      "cell_type": "markdown",
      "source": [
        "Implement a program that prints numbers from 1 to 3 using a while loop, and after the loop, print \"Loop finished.\""
      ],
      "metadata": {
        "id": "8gjf1npOO-D5"
      }
    },
    {
      "cell_type": "code",
      "source": [
        "i=1\n",
        "while i<=3:\n",
        "  print(i)\n",
        "  i+=1\n",
        "print(\"Loop finished\")\n"
      ],
      "metadata": {
        "colab": {
          "base_uri": "https://localhost:8080/"
        },
        "id": "d9ndDdjzO-Us",
        "outputId": "de2556a6-71d5-4ef2-9a92-3bfd0c26dbee"
      },
      "execution_count": null,
      "outputs": [
        {
          "output_type": "stream",
          "name": "stdout",
          "text": [
            "1\n",
            "2\n",
            "3\n",
            "Loop finished\n"
          ]
        }
      ]
    },
    {
      "cell_type": "markdown",
      "source": [
        "Write a program that takes two numbers as input and prints \"Both are positive,\" \"One is positive,\" or \"Both are negative\" based on conditions."
      ],
      "metadata": {
        "id": "xLmuyiMgO-st"
      }
    },
    {
      "cell_type": "code",
      "source": [
        "a=int(input(\"enter a 1st no:\"))\n",
        "b=int(input(\"enter a 2nd no:\"))\n",
        "if a>0 and b>0:\n",
        "  print(\"Both are positive\")\n",
        "elif a<0 and b<0:\n",
        "  print(\"Both are negative\")\n",
        "else:\n",
        "  print(\"One is positive\")"
      ],
      "metadata": {
        "colab": {
          "base_uri": "https://localhost:8080/"
        },
        "id": "tPgDgezrO-9g",
        "outputId": "ff7b5baf-8eec-4312-9cb2-113f8e2f1a02"
      },
      "execution_count": null,
      "outputs": [
        {
          "output_type": "stream",
          "name": "stdout",
          "text": [
            "enter a 1st no:6\n",
            "enter a 2nd no:-9\n",
            "One is positive\n"
          ]
        }
      ]
    },
    {
      "cell_type": "markdown",
      "source": [
        "\n",
        "Create a program that checks whether a given number is divisible by both 2 and 3. If it is, print \"Divisible by both.\" Otherwise, print \"Not divisible by both.\"\n",
        "\n"
      ],
      "metadata": {
        "id": "Ld6c2AwfO_Pq"
      }
    },
    {
      "cell_type": "code",
      "source": [
        "a=int(input(\"enter a no:\"))\n",
        "if a%2==0 and a%3==0:\n",
        "  print(\"Divisible by both\")\n",
        "else:\n",
        "  print(\"not divisible\")"
      ],
      "metadata": {
        "colab": {
          "base_uri": "https://localhost:8080/"
        },
        "id": "H0TPC7MkO_gq",
        "outputId": "4507aad5-f1eb-48b9-a5e5-b167091c8ae8"
      },
      "execution_count": null,
      "outputs": [
        {
          "output_type": "stream",
          "name": "stdout",
          "text": [
            "enter a no:9\n",
            "not divisible\n"
          ]
        }
      ]
    },
    {
      "cell_type": "markdown",
      "source": [
        "Write a Python program that takes an age as input and categorizes it into \"Child\" (0-12 years), \"Teenager\" (13-19 years), \"Adult\" (20-59 years), and \"Senior\" (60+ years)."
      ],
      "metadata": {
        "id": "-VCe4d_yO_xA"
      }
    },
    {
      "cell_type": "code",
      "source": [
        "age=int(input(\"enter the age:\"))\n",
        "if age in range(0,13):\n",
        "  print(\"child\")\n",
        "elif age in range(13,20):\n",
        "  print(\"Teenager\")\n",
        "elif age in range(20,60):\n",
        "  print(\"Adult\")\n",
        "else:\n",
        "  print(\"Senior\")"
      ],
      "metadata": {
        "colab": {
          "base_uri": "https://localhost:8080/"
        },
        "id": "zpBz6iGIPACD",
        "outputId": "73fa792b-ce6d-4f2c-b26f-89abe1ebb4da"
      },
      "execution_count": null,
      "outputs": [
        {
          "output_type": "stream",
          "name": "stdout",
          "text": [
            "enter the age:12\n",
            "child\n"
          ]
        }
      ]
    }
  ]
}