{
  "nbformat": 4,
  "nbformat_minor": 0,
  "metadata": {
    "colab": {
      "provenance": []
    },
    "kernelspec": {
      "name": "python3",
      "display_name": "Python 3"
    },
    "language_info": {
      "name": "python"
    }
  },
  "cells": [
    {
      "cell_type": "code",
      "execution_count": null,
      "metadata": {
        "colab": {
          "base_uri": "https://localhost:8080/"
        },
        "id": "Z7KwguHczqGI",
        "outputId": "a656f93b-0734-4cd8-9ee2-fc70630dc52b"
      },
      "outputs": [
        {
          "output_type": "stream",
          "name": "stdout",
          "text": [
            "['icodeguru', 8.0, 'pythonn', 67, 'k']\n",
            "8.0\n"
          ]
        }
      ],
      "source": [
        "#What is the syntax for accessing an element in a Python list using positive indexing?\n",
        "#synax for accessing an element in a Python list using positive indexing is \"variable name[index] for example\"\n",
        "#for example\n",
        "x=[\"icodeguru\",8.0,\"pythonn\",67,\"k\"]\n",
        "print(x)\n",
        "print(x[1])  #variable_name[index]\n"
      ]
    },
    {
      "cell_type": "code",
      "source": [
        "#How can you replace an element at index 2 in a list named `my_list` with the value 10?\n",
        "# my_list[2]=10 e.g\n",
        "my_list=[1,2,3,4,5,6]\n",
        "my_list[2]=10\n",
        "print(my_list)"
      ],
      "metadata": {
        "colab": {
          "base_uri": "https://localhost:8080/"
        },
        "id": "7KuVH-XY1mcb",
        "outputId": "f4d6d536-033e-4025-e9cd-884bd12cbc57"
      },
      "execution_count": null,
      "outputs": [
        {
          "output_type": "stream",
          "name": "stdout",
          "text": [
            "[1, 2, 10, 4, 5, 6]\n"
          ]
        }
      ]
    },
    {
      "cell_type": "code",
      "source": [
        "# What method can you use to find the index of the first occurrence of a specific value in a list?\n",
        "x=[10,20,30,40,50,60]\n",
        "y=x.index(20)  #variable_name.index(value in list)\n",
        "print(y)\n"
      ],
      "metadata": {
        "colab": {
          "base_uri": "https://localhost:8080/"
        },
        "id": "XUdS9Ess3eLV",
        "outputId": "3bbaa067-07da-4e31-c37a-3f8b398162a5"
      },
      "execution_count": null,
      "outputs": [
        {
          "output_type": "stream",
          "name": "stdout",
          "text": [
            "1\n"
          ]
        }
      ]
    },
    {
      "cell_type": "code",
      "source": [
        "#How do you access the last element of a list using negative indexing?\n",
        "# my_list[-1]\n",
        "my_list=[11,22,33,44,55,66]\n",
        "print(my_list[-1])"
      ],
      "metadata": {
        "colab": {
          "base_uri": "https://localhost:8080/"
        },
        "id": "bbav39bd49zC",
        "outputId": "5316475d-bbc2-4db1-9906-0ee8facb9832"
      },
      "execution_count": null,
      "outputs": [
        {
          "output_type": "stream",
          "name": "stdout",
          "text": [
            "66\n"
          ]
        }
      ]
    },
    {
      "cell_type": "code",
      "source": [
        " #How can you find the memory address of an object in Python?\n",
        " y=[\"icode guru\",\"python\",\"today class\"]\n",
        " print(id(y))\n"
      ],
      "metadata": {
        "colab": {
          "base_uri": "https://localhost:8080/"
        },
        "id": "ylO_m9KA5X6f",
        "outputId": "6f34aadb-d216-438a-df53-5b9ea51cf849"
      },
      "execution_count": null,
      "outputs": [
        {
          "output_type": "stream",
          "name": "stdout",
          "text": [
            "138819640851520\n"
          ]
        }
      ]
    },
    {
      "cell_type": "code",
      "source": [
        "#Given a list `my_list = [1, 2, 3, 4, 5]`, what is the index of the value 4?\n",
        "my_list=[1,2,3,4,5]\n",
        "print(my_list.index(4))"
      ],
      "metadata": {
        "colab": {
          "base_uri": "https://localhost:8080/"
        },
        "id": "EtltF3IV5gpw",
        "outputId": "04af8163-5455-4a03-daa8-0f8b826813b6"
      },
      "execution_count": null,
      "outputs": [
        {
          "output_type": "stream",
          "name": "stdout",
          "text": [
            "3\n"
          ]
        }
      ]
    },
    {
      "cell_type": "code",
      "source": [
        "#How would you extract the elements from index 2 to index 5 (inclusive) from a list named `my_list`?\n",
        "my_list=[2,4,6,8,10,12,14,16,18,20]\n",
        "print(my_list[2:6])"
      ],
      "metadata": {
        "colab": {
          "base_uri": "https://localhost:8080/"
        },
        "id": "W-Vfu2ST52R_",
        "outputId": "bbe8b144-3bfb-46b8-b238-4f3db9f70e1e"
      },
      "execution_count": null,
      "outputs": [
        {
          "output_type": "stream",
          "name": "stdout",
          "text": [
            "[6, 8, 10, 12]\n"
          ]
        }
      ]
    },
    {
      "cell_type": "code",
      "source": [
        "# What is the result of `id(42)` in Python?\n",
        "print(id(42))\n",
        "x=42\n",
        "print()"
      ],
      "metadata": {
        "colab": {
          "base_uri": "https://localhost:8080/"
        },
        "id": "csAdUc1L6hx-",
        "outputId": "ac185b2c-aced-4227-a202-49baa455bc25"
      },
      "execution_count": null,
      "outputs": [
        {
          "output_type": "stream",
          "name": "stdout",
          "text": [
            "138820978673168\n"
          ]
        }
      ]
    },
    {
      "cell_type": "code",
      "source": [
        "#How can you check if a value exists in a list without getting an error if it's not found?\n",
        "x=[1,3,5,7,9]\n",
        "if 3 in x:\n",
        "  print(\"value exist\")\n",
        "else:\n",
        "    print(\"value does not exist\")\n"
      ],
      "metadata": {
        "colab": {
          "base_uri": "https://localhost:8080/"
        },
        "id": "AMvZtx9h6nFB",
        "outputId": "96bac8a7-c87d-427a-d7e6-4488acaa9133"
      },
      "execution_count": null,
      "outputs": [
        {
          "output_type": "stream",
          "name": "stdout",
          "text": [
            "value exist\n"
          ]
        }
      ]
    },
    {
      "cell_type": "code",
      "source": [
        "# If `my_list = [1, 2, 3, 4, 5]`, how do you replace the elements from index 1 to index 3 with the values `[7, 8, 9]?\n",
        "my_list=[1,2,3,4,5]\n",
        "my_list[1:4]=(7,8,9)\n",
        "print(my_list)"
      ],
      "metadata": {
        "colab": {
          "base_uri": "https://localhost:8080/"
        },
        "id": "0mNJE43B642h",
        "outputId": "7b834687-862f-4afe-8292-0fbc909e84f0"
      },
      "execution_count": null,
      "outputs": [
        {
          "output_type": "stream",
          "name": "stdout",
          "text": [
            "[1, 7, 8, 9, 5]\n"
          ]
        }
      ]
    }
  ]
}