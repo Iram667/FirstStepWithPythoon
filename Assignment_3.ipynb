{
  "nbformat": 4,
  "nbformat_minor": 0,
  "metadata": {
    "colab": {
      "provenance": [],
      "toc_visible": true
    },
    "kernelspec": {
      "name": "python3",
      "display_name": "Python 3"
    },
    "language_info": {
      "name": "python"
    }
  },
  "cells": [
    {
      "cell_type": "markdown",
      "source": [
        "### **Question 1**"
      ],
      "metadata": {
        "id": "P0jK-Y-cHSWh"
      }
    },
    {
      "cell_type": "code",
      "execution_count": null,
      "metadata": {
        "colab": {
          "base_uri": "https://localhost:8080/"
        },
        "id": "XywrATCDHPtr",
        "outputId": "2a819014-c174-4d6b-cca7-cbd99f0cd7f5"
      },
      "outputs": [
        {
          "output_type": "stream",
          "name": "stdout",
          "text": [
            "[1, 3, 4, 5, 6]\n"
          ]
        }
      ],
      "source": [
        "# Empty List\n",
        "my_list = []\n",
        "# Loop to append elements\n",
        "for i in range(1 , 4):\n",
        "  my_list.append(i)\n",
        "# Extend method to add more elements\n",
        "my_list.extend([4, 5, 6])\n",
        "# Remove method to remove element 2\n",
        "my_list.remove(2)\n",
        "print(my_list)"
      ]
    },
    {
      "cell_type": "markdown",
      "source": [
        "### **Question 2**"
      ],
      "metadata": {
        "id": "-c1KmQmVHSLF"
      }
    },
    {
      "cell_type": "code",
      "source": [
        "# Create to sets\n",
        "set1 = {1, 2, 3}\n",
        "set2 = {4, 5, 6}\n",
        "# Union of set 1 and set 2\n",
        "print(\"Union of both sets: \", set1.union(set2))\n",
        "# Intersection\n",
        "print(\"Intersection of both sets: \", set1.intersection(set2))\n",
        "# print(\"Intersection of both sets: \", set1.intersection_update(set2))\n",
        "# Add element to set 1\n",
        "set1.add(6)\n",
        "print(set1)"
      ],
      "metadata": {
        "colab": {
          "base_uri": "https://localhost:8080/"
        },
        "id": "p1zhouHiHRnq",
        "outputId": "47d06248-9c02-43a2-c11c-22b08f7f402d"
      },
      "execution_count": null,
      "outputs": [
        {
          "output_type": "stream",
          "name": "stdout",
          "text": [
            "Union of both sets:  {1, 2, 3, 4, 5, 6}\n",
            "Intersection of both sets:  set()\n",
            "{1, 2, 3, 6}\n"
          ]
        }
      ]
    },
    {
      "cell_type": "markdown",
      "source": [
        "### **Question 3**"
      ],
      "metadata": {
        "id": "eJQg5uY_Kc1G"
      }
    },
    {
      "cell_type": "code",
      "source": [
        "# Create a Tuple\n",
        "my_tuple = (\"a\", \"b\", \"c\")\n",
        "# Access second element of tuple\n",
        "print(\"Tuple second element: \", my_tuple[1])\n",
        "\n",
        "\"\"\"\n",
        "    Change Tuple 1st value.\n",
        "    Tuple is unchangeable datatype so, we have to convert it into\n",
        "    List first than we can change its value\n",
        "\"\"\"\n",
        "tuple_to_list = list(my_tuple)\n",
        "tuple_to_list[0] = \"x\"\n",
        "my_tuple = tuple(tuple_to_list)\n",
        "print(\"My tuple after changing: \", my_tuple)"
      ],
      "metadata": {
        "colab": {
          "base_uri": "https://localhost:8080/"
        },
        "id": "x0DNr4FFKe8I",
        "outputId": "f969060d-c5e5-42c6-bfaf-d5c42439cc4b"
      },
      "execution_count": null,
      "outputs": [
        {
          "output_type": "stream",
          "name": "stdout",
          "text": [
            "Tuple second element:  b\n",
            "My tuple after changing:  ('x', 'b', 'c')\n"
          ]
        }
      ]
    },
    {
      "cell_type": "markdown",
      "source": [
        "### **Question 4**"
      ],
      "metadata": {
        "id": "bUmOoYfbL3DB"
      }
    },
    {
      "cell_type": "code",
      "source": [
        "# Create a empty dictionary\n",
        "my_dict = {}\n",
        "# Add elements\n",
        "my_dict.update({'name': 'John', 'age': 30, 'city': 'New York'})\n",
        "print(\"Before getting poped: \", my_dict)\n",
        "# Remove city\n",
        "my_dict.popitem()\n",
        "print(\"After getting poped: \", my_dict)\n",
        "# Print key Using built-in method\n",
        "print(\"Key() Method: \", my_dict.keys())\n",
        "# Using loop to print keys\n",
        "print(\"Itreating through my_dict:\")\n",
        "for key in my_dict:\n",
        "  print(key)"
      ],
      "metadata": {
        "colab": {
          "base_uri": "https://localhost:8080/"
        },
        "id": "zudTMYdQKfGg",
        "outputId": "34b920ac-ed4f-4351-99e5-3cbcef19f532"
      },
      "execution_count": null,
      "outputs": [
        {
          "output_type": "stream",
          "name": "stdout",
          "text": [
            "Before getting poped:  {'name': 'John', 'age': 30, 'city': 'New York'}\n",
            "After getting poped:  {'name': 'John', 'age': 30}\n",
            "Key() Method:  dict_keys(['name', 'age'])\n",
            "Itreating through my_dict:\n",
            "name\n",
            "age\n"
          ]
        }
      ]
    },
    {
      "cell_type": "markdown",
      "source": [
        "### **Question 5**"
      ],
      "metadata": {
        "id": "Ye-cbFCbNlkx"
      }
    },
    {
      "cell_type": "code",
      "source": [
        "# Create Squares List\n",
        "squares = []\n",
        "# Adding squares\n",
        "for i in range(1, 6):\n",
        "  squares.append(i ** 2)\n",
        "print(\"Squares of number 1 to 5:\", squares)\n",
        "\n",
        "# Using List Comprehension\n",
        "squares = [i**2 for i in range(1, 6)]\n",
        "print(\"Using List Comprehension:\", squares)\n",
        "\n",
        "# Create Even_Squares List\n",
        "even_squares = []\n",
        "for i in range(1, 11):\n",
        "  if i%2 == 0:\n",
        "    even_squares.append(i ** 2)\n",
        "print(\"Even squares of numbers 1 to 10:\", even_squares)\n",
        "\n",
        "# Using List Comprehension\n",
        "even_squares = [(i+1)**2 for i in range(1, 10)]\n",
        "print(\"Using List Comprehension:\", even_squares)"
      ],
      "metadata": {
        "colab": {
          "base_uri": "https://localhost:8080/"
        },
        "id": "FrxwdjN4PF_K",
        "outputId": "5619bb2c-2542-42e2-db42-53c9a26b75d6"
      },
      "execution_count": null,
      "outputs": [
        {
          "output_type": "stream",
          "name": "stdout",
          "text": [
            "Squares of number 1 to 5: [1, 4, 9, 16, 25]\n",
            "Using List Comprehension: [1, 4, 9, 16, 25]\n",
            "Even squares of numbers 1 to 10: [4, 16, 36, 64, 100]\n",
            "Using List Comprehension: [4, 9, 16, 25, 36, 49, 64, 81, 100]\n"
          ]
        }
      ]
    },
    {
      "cell_type": "markdown",
      "source": [
        "### **Question 6**"
      ],
      "metadata": {
        "id": "L8eLO1sxSfMP"
      }
    },
    {
      "cell_type": "code",
      "source": [
        "# Set Comprehension\n",
        "even_set = {i for i in range(1, 11) if i%2==0}\n",
        "print(\"Even Set using comprehension:\", even_set)"
      ],
      "metadata": {
        "colab": {
          "base_uri": "https://localhost:8080/"
        },
        "id": "mb9EbZcbRuDx",
        "outputId": "71b42c77-861c-4595-f4cc-85b0414845d1"
      },
      "execution_count": null,
      "outputs": [
        {
          "output_type": "stream",
          "name": "stdout",
          "text": [
            "Even Set using comprehension: {2, 4, 6, 8, 10}\n"
          ]
        }
      ]
    },
    {
      "cell_type": "markdown",
      "source": [
        "### **Question 7**"
      ],
      "metadata": {
        "id": "0lL6SROvTTzj"
      }
    },
    {
      "cell_type": "code",
      "source": [
        "# Create Tuple\n",
        "coordinates = (22.61690, 83.82838)\n",
        "# Upacking\n",
        "latitude, longitude = coordinates\n",
        "print(\"Latitude: \", latitude)\n",
        "print(\"Longitude:\", longitude)"
      ],
      "metadata": {
        "colab": {
          "base_uri": "https://localhost:8080/"
        },
        "id": "LMypZ1eFTWhd",
        "outputId": "c1675042-9b9e-4c47-851c-07a10ba0f5d1"
      },
      "execution_count": null,
      "outputs": [
        {
          "output_type": "stream",
          "name": "stdout",
          "text": [
            "Latitude:  22.6169\n",
            "Longitude: 83.82838\n"
          ]
        }
      ]
    },
    {
      "cell_type": "markdown",
      "source": [
        "### **Question 8**"
      ],
      "metadata": {
        "id": "HByUiW4rUQQu"
      }
    },
    {
      "cell_type": "code",
      "source": [
        "#Create Dictionary\n",
        "grades = {\n",
        "    \"Math\" : 90,\n",
        "    \"Science\" : 85,\n",
        "    \"English\" : 88\n",
        "}\n",
        "print(\"Science grade: \",grades[\"Science\"])\n",
        "print(\"Science grade: \",grades.get(\"Science\"))"
      ],
      "metadata": {
        "colab": {
          "base_uri": "https://localhost:8080/"
        },
        "id": "scRtmKpBUTBM",
        "outputId": "42f3dad1-cf8d-4a65-baf1-d576f1eb1db9"
      },
      "execution_count": null,
      "outputs": [
        {
          "output_type": "stream",
          "name": "stdout",
          "text": [
            "Science grade:  85\n"
          ]
        }
      ]
    },
    {
      "cell_type": "markdown",
      "source": [
        "### **Question 9**"
      ],
      "metadata": {
        "id": "1k5qSlIxUxCQ"
      }
    },
    {
      "cell_type": "code",
      "source": [
        "# Grades key and values\n",
        "for grade in grades:\n",
        "  print(grade, grades[grade])"
      ],
      "metadata": {
        "colab": {
          "base_uri": "https://localhost:8080/"
        },
        "id": "SLFIc0aAUzYV",
        "outputId": "53c5bfdd-7f99-461c-e49d-fe2810284ef2"
      },
      "execution_count": null,
      "outputs": [
        {
          "output_type": "stream",
          "name": "stdout",
          "text": [
            "Math 90\n",
            "Science 85\n",
            "English 88\n"
          ]
        }
      ]
    },
    {
      "cell_type": "markdown",
      "source": [
        "### **Question 10**"
      ],
      "metadata": {
        "id": "napm6kBvVRcq"
      }
    },
    {
      "cell_type": "code",
      "source": [
        "#Value update\n",
        "grades.update({\"Math\":95})\n",
        "print(\"After updation:\", grades)"
      ],
      "metadata": {
        "colab": {
          "base_uri": "https://localhost:8080/"
        },
        "id": "HV_uSeCdVUW4",
        "outputId": "69df17bd-05c8-4ab4-88bd-c842db610879"
      },
      "execution_count": null,
      "outputs": [
        {
          "output_type": "stream",
          "name": "stdout",
          "text": [
            "After updation: {'Math': 95, 'Science': 85, 'English': 88}\n"
          ]
        }
      ]
    }
  ]
}