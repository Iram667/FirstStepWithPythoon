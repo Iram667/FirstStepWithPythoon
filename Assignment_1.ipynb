{
  "nbformat": 4,
  "nbformat_minor": 0,
  "metadata": {
    "colab": {
      "provenance": []
    },
    "kernelspec": {
      "name": "python3",
      "display_name": "Python 3"
    },
    "language_info": {
      "name": "python"
    }
  },
  "cells": [
    {
      "cell_type": "code",
      "execution_count": null,
      "metadata": {
        "colab": {
          "base_uri": "https://localhost:8080/"
        },
        "id": "DArCBeoTy4F9",
        "outputId": "1a59e45c-ef36-40a4-9c80-c8dccee63fa1"
      },
      "outputs": [
        {
          "output_type": "stream",
          "name": "stdout",
          "text": [
            "iram shaheen\n"
          ]
        }
      ],
      "source": [
        "#Assign your name to the variable x then print it by using print function?\n",
        "x=\"iram shaheen\"\n",
        "print(x)"
      ]
    },
    {
      "cell_type": "code",
      "source": [
        "#print the value of a and b in one line using print function?\n",
        "a=0\n",
        "b=\"Guru\"\n",
        "print(a,b)"
      ],
      "metadata": {
        "colab": {
          "base_uri": "https://localhost:8080/"
        },
        "id": "2KaALjhYzuM4",
        "outputId": "038731e5-61c5-47a7-e301-485fe1c8e304"
      },
      "execution_count": null,
      "outputs": [
        {
          "output_type": "stream",
          "name": "stdout",
          "text": [
            "0 Guru\n"
          ]
        }
      ]
    },
    {
      "cell_type": "code",
      "source": [
        "#write about 10 possible variable names, try multi word names and names with number\n",
        "x=0.7\n",
        "class=\"three\"\n",
        "Variable=87\n",
        "Variable2=9\n",
        "first_variable=\"amna\"\n",
        "_variable2=90.0\n",
        "my_city=\"Lawa\"\n",
        "laptopwindow=10\n",
        "Length=12\n",
        "Total_Marks=1100"
      ],
      "metadata": {
        "id": "IDLX3GGR0Di6"
      },
      "execution_count": null,
      "outputs": []
    },
    {
      "cell_type": "code",
      "source": [
        "#print data type of variable\"age\".type cast variable \"age\" to float data type.\n",
        "age=29\n",
        "print(type(age))\n",
        "age=float(age)\n",
        "print(type(age))"
      ],
      "metadata": {
        "colab": {
          "base_uri": "https://localhost:8080/"
        },
        "id": "6foHTIeA1Vda",
        "outputId": "28ebf961-c431-49c4-cb11-5a3dd49c566e"
      },
      "execution_count": null,
      "outputs": [
        {
          "output_type": "stream",
          "name": "stdout",
          "text": [
            "<class 'int'>\n",
            "<class 'float'>\n"
          ]
        }
      ]
    },
    {
      "cell_type": "code",
      "source": [
        "#given length and width of a rectangle.calculate its area, store in a new variable.print its value and data type.\n",
        "length=66\n",
        "width=56.9\n",
        "Area=length*width\n",
        "print(Area)\n",
        "print(type(Area))"
      ],
      "metadata": {
        "colab": {
          "base_uri": "https://localhost:8080/"
        },
        "id": "uJba8VbM2BJQ",
        "outputId": "e319ddc1-e127-4b2a-eaa0-4f99209dab95"
      },
      "execution_count": null,
      "outputs": [
        {
          "output_type": "stream",
          "name": "stdout",
          "text": [
            "3755.4\n",
            "<class 'float'>\n"
          ]
        }
      ]
    },
    {
      "cell_type": "code",
      "source": [
        "#print the value of x y and z and find out the exact value from following\n",
        "x=10\n",
        "z=19\n",
        "y=20\n",
        "y=30\n",
        "x=15\n",
        "z=25\n",
        "print(x)\n",
        "print(y)\n",
        "print(z)"
      ],
      "metadata": {
        "colab": {
          "base_uri": "https://localhost:8080/"
        },
        "id": "nBvkobIw28pa",
        "outputId": "9d57ae5a-679c-424c-fc31-569344055c9f"
      },
      "execution_count": null,
      "outputs": [
        {
          "output_type": "stream",
          "name": "stdout",
          "text": [
            "15\n",
            "30\n",
            "25\n"
          ]
        }
      ]
    },
    {
      "cell_type": "code",
      "source": [
        "#show the out put by using single line comment in which variable b will be commented\n",
        "a=100\n",
        "print(a) #b=\"python\" print(b)"
      ],
      "metadata": {
        "colab": {
          "base_uri": "https://localhost:8080/"
        },
        "id": "ikhf_Ivy4mJx",
        "outputId": "252a0cc5-244a-439f-ea8a-081504d77597"
      },
      "execution_count": null,
      "outputs": [
        {
          "output_type": "stream",
          "name": "stdout",
          "text": [
            "100\n"
          ]
        }
      ]
    },
    {
      "cell_type": "code",
      "source": [
        "'''Comment this line from the following paragraph by using multiline comment. (It was initially designed by Guido van Rossum in 1991 and developed by Python Software Foundation).\n",
        "Python is a widely-used general-purpose, high-level programming language. It was initially designed by Guido van Rossum in 1991 and developed by Python Software Foundation.\n",
        " It was mainly developed for emphasis on code readability, and its syntax allows programmers to express concepts in fewer lines of code\n",
        "It was initially designed by Guido van Rossum in 1991 and\n",
        "developed by Python Software Foundation'''"
      ],
      "metadata": {
        "colab": {
          "base_uri": "https://localhost:8080/",
          "height": 87
        },
        "id": "2mmPQGKQ5Ust",
        "outputId": "c316d0fb-62f4-4810-ae2b-18ea490b2a80"
      },
      "execution_count": null,
      "outputs": [
        {
          "output_type": "execute_result",
          "data": {
            "text/plain": [
              "'Comment this line from the following paragraph by using multiline comment. (It was initially designed by Guido van Rossum in 1991 and developed by Python Software Foundation).\\nPython is a widely-used general-purpose, high-level programming language. It was initially designed by Guido van Rossum in 1991 and developed by Python Software Foundation.\\n It was mainly developed for emphasis on code readability, and its syntax allows programmers to express concepts in fewer lines of code\\nIt was initially designed by Guido van Rossum in 1991 and \\ndeveloped by Python Software Foundation'"
            ],
            "application/vnd.google.colaboratory.intrinsic+json": {
              "type": "string"
            }
          },
          "metadata": {},
          "execution_count": 1
        }
      ]
    },
    {
      "cell_type": "code",
      "source": [
        "'''Check whether the statements are according to the Rules for assign variable or not and also correct the code then print Ali Ahmed?\n",
        "@variable name = \"Ali Ahmed.\"\n",
        "In = \"It cannot be print.\"\n",
        "'''\n",
        "#the variable which is assigned to \"Ali Ahmed\" is incorrect.\n",
        "variable_name=\"Ali Ahmed\"\n",
        "print(variable_name)\n"
      ],
      "metadata": {
        "colab": {
          "base_uri": "https://localhost:8080/"
        },
        "id": "xFkAJeLW8EPV",
        "outputId": "2d20c582-c8da-4df8-cbe1-60d3ab84ef2e"
      },
      "execution_count": null,
      "outputs": [
        {
          "output_type": "stream",
          "name": "stdout",
          "text": [
            "Ali Ahmed\n"
          ]
        }
      ]
    },
    {
      "cell_type": "code",
      "source": [
        "#Assign one value to the multiple variable like x,y and z.\n",
        "#Value = 10\n",
        " #Value = \"Python Programming.\"\n",
        "x=y=z=10\n",
        "print(x)\n",
        "print(y)\n",
        "print(z)\n",
        "x=y=z=\"python programming\"\n",
        "print(x)\n",
        "print(y)\n",
        "print(z)"
      ],
      "metadata": {
        "colab": {
          "base_uri": "https://localhost:8080/"
        },
        "id": "vFTHfAWk86l7",
        "outputId": "87257fd5-cbea-4435-8cf5-fe04e6ea75d1"
      },
      "execution_count": null,
      "outputs": [
        {
          "output_type": "stream",
          "name": "stdout",
          "text": [
            "10\n",
            "10\n",
            "10\n",
            "python programming\n",
            "python programming\n",
            "python programming\n"
          ]
        }
      ]
    },
    {
      "cell_type": "code",
      "source": [
        "#Find the ID of 3 using id function.\n",
        "a=3\n",
        "print(id(a))"
      ],
      "metadata": {
        "colab": {
          "base_uri": "https://localhost:8080/"
        },
        "id": "YafcLHCR-wo9",
        "outputId": "240cafe2-36d2-4cdf-8836-46508ee8b875"
      },
      "execution_count": null,
      "outputs": [
        {
          "output_type": "stream",
          "name": "stdout",
          "text": [
            "138330893599024\n"
          ]
        }
      ]
    }
  ]
}